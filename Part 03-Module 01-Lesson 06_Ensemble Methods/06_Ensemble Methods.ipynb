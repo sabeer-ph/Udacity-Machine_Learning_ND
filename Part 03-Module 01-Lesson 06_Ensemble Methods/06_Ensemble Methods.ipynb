{
 "cells": [
  {
   "cell_type": "markdown",
   "metadata": {},
   "source": [
    "### 01. Intro\n",
    "\n",
    "In this section we will learn about taking a bunch of model and ensemble them together to make a better model. \n",
    "\n",
    "We will learn 2 methods\n",
    "1. Bagging (**B**ootstrap **agg**regat**ing**)\n",
    "2. Bossting\n",
    "\n",
    "Bagging and boosting example with a exam test.\n",
    "1. bagging : we ask our many friend to take the test. if the answer is a number then we average all their answers. if its YES/No then we take the vote. \n",
    "2. Boosting : we ask our math friend to asnwer math question. sport friend to answer sport related question and so on."
   ]
  },
  {
   "cell_type": "markdown",
   "metadata": {},
   "source": [
    "### 02. Bagging\n",
    "\n",
    "Incomplete"
   ]
  },
  {
   "cell_type": "code",
   "execution_count": null,
   "metadata": {},
   "outputs": [],
   "source": []
  }
 ],
 "metadata": {
  "kernelspec": {
   "display_name": "Python 3",
   "language": "python",
   "name": "python3"
  },
  "language_info": {
   "codemirror_mode": {
    "name": "ipython",
    "version": 3
   },
   "file_extension": ".py",
   "mimetype": "text/x-python",
   "name": "python",
   "nbconvert_exporter": "python",
   "pygments_lexer": "ipython3",
   "version": "3.7.7"
  }
 },
 "nbformat": 4,
 "nbformat_minor": 4
}
